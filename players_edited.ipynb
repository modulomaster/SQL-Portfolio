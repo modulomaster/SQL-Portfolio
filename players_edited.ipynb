{
 "cells": [
  {
   "cell_type": "code",
   "execution_count": 35,
   "id": "093f7369",
   "metadata": {},
   "outputs": [],
   "source": [
    "import pandas as pd\n",
    "import numpy as np"
   ]
  },
  {
   "cell_type": "code",
   "execution_count": 36,
   "id": "c64f097c",
   "metadata": {},
   "outputs": [
    {
     "name": "stdout",
     "output_type": "stream",
     "text": [
      "   playerid     fname    lname        position height  weight    birthday  \\\n",
      "0   1630173  Precious  Achiuwa         Forward    6-8     225  1999-09-19   \n",
      "1    203500    Steven    Adams          Center   6-11     265  1993-07-20   \n",
      "2   1628389       Bam  Adebayo  Center-Forward    6-9     255  1997-07-18   \n",
      "3   1630534     Ochai   Agbaji           Guard    6-5     215  2000-04-20   \n",
      "4   1630583     Santi   Aldama  Forward-Center    7-0     215  2001-01-10   \n",
      "\n",
      "       country           school  draft_year  draft_round  draft_number  \n",
      "0      Nigeria          Memphis        2020          1.0          20.0  \n",
      "1  New Zealand       Pittsburgh        2013          1.0          12.0  \n",
      "2          USA         Kentucky        2017          1.0          14.0  \n",
      "3          USA           Kansas        2022          1.0          14.0  \n",
      "4        Spain  Loyola-Maryland        2021          1.0          30.0  \n"
     ]
    }
   ],
   "source": [
    "df = pd.read_csv('players.csv')\n",
    "print(df.head())"
   ]
  },
  {
   "cell_type": "code",
   "execution_count": 37,
   "id": "210db6b7",
   "metadata": {},
   "outputs": [],
   "source": [
    "player_id = df.playerid\n",
    "fname = df.fname\n",
    "lname = df.lname\n",
    "position = df.position\n",
    "weight = df.weight\n",
    "birthday = df.birthday\n",
    "country = df.country\n",
    "school = df.school\n",
    "draft_year = df.draft_year\n"
   ]
  },
  {
   "cell_type": "code",
   "execution_count": 65,
   "id": "59f88f3a",
   "metadata": {},
   "outputs": [],
   "source": [
    "#cleaning up the draft round and number so that its compatable with SQL\n",
    "draft_round = df.draft_round.fillna(0)\n",
    "draft_number = df.draft_number.fillna(0)\n",
    "\n",
    "\n",
    "#making a new data frame with clean data \n",
    "#(used some of the daya from the original players csv file)\n",
    "nba_players = pd.DataFrame()\n",
    "nba_players['player_id'] = player_id\n",
    "nba_players['first_name'] = fname\n",
    "nba_players['last_name'] = lname\n",
    "nba_players['position'] = position\n",
    "nba_players['weight'] = weight\n",
    "nba_players['birthday'] = birthday\n",
    "nba_players['country'] = country\n",
    "nba_players['school'] = school\n",
    "nba_players['draft_year'] = draft_year\n",
    "nba_players['draft_round'] = draft_round\n",
    "nba_players['draft_number'] = draft_number\n",
    "\n",
    "#fixing eight so that its converted to inches ALTERED SOURCE CSV FILE 'players'\n",
    "\n",
    "#fix_height = lambda x: x.replace('-','.')\n",
    "#df.converted_height = df.height.apply(fix_height)\n",
    "#to_float = lambda x: float(x)\n",
    "#df.converted_height = df.height.apply(to_float)\n",
    "\n",
    "nba_players['height'] = df.height\n",
    "nba_players.to_csv('nba_players.csv')\n",
    "\n",
    "\n",
    "\n"
   ]
  },
  {
   "cell_type": "code",
   "execution_count": null,
   "id": "dcdf87c7",
   "metadata": {},
   "outputs": [],
   "source": [
    "\n",
    "\n"
   ]
  },
  {
   "cell_type": "code",
   "execution_count": null,
   "id": "a3749589",
   "metadata": {},
   "outputs": [],
   "source": []
  }
 ],
 "metadata": {
  "kernelspec": {
   "display_name": "Python 3 (ipykernel)",
   "language": "python",
   "name": "python3"
  },
  "language_info": {
   "codemirror_mode": {
    "name": "ipython",
    "version": 3
   },
   "file_extension": ".py",
   "mimetype": "text/x-python",
   "name": "python",
   "nbconvert_exporter": "python",
   "pygments_lexer": "ipython3",
   "version": "3.10.9"
  }
 },
 "nbformat": 4,
 "nbformat_minor": 5
}
